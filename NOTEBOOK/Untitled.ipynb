{
 "cells": [
  {
   "cell_type": "markdown",
   "id": "b59a24a7",
   "metadata": {},
   "source": [
    "QUERY 1\n",
    "\n",
    "Tres películas en las que aparezca la actriz Penélope Guiness:\n",
    "\n",
    "SELECT title, actors FROM films\n",
    "WHERE actors LIKE '%penelope guiness%' \n",
    "LIMIT 3;\n",
    "\n",
    "<img src=\"https://github.com/jose-luis666/sql_proyecto/blob/main/IMG/QUERY%201.png\">"
   ]
  },
  {
   "cell_type": "code",
   "execution_count": null,
   "id": "02481e6c",
   "metadata": {},
   "outputs": [],
   "source": []
  }
 ],
 "metadata": {
  "kernelspec": {
   "display_name": "Python 3 (ipykernel)",
   "language": "python",
   "name": "python3"
  },
  "language_info": {
   "codemirror_mode": {
    "name": "ipython",
    "version": 3
   },
   "file_extension": ".py",
   "mimetype": "text/x-python",
   "name": "python",
   "nbconvert_exporter": "python",
   "pygments_lexer": "ipython3",
   "version": "3.9.13"
  }
 },
 "nbformat": 4,
 "nbformat_minor": 5
}
