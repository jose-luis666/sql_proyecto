{
 "cells": [
  {
   "cell_type": "markdown",
   "id": "0a002f6d",
   "metadata": {},
   "source": [
    "# Limpieza de datos de ataques de tiburones a personas\n",
    "\n",
    "Este proyecto tiene como objetivo limpiar y ordenar un conjunto de datos sobre ataques de tiburones a personas. El dataset cuenta con información sobre el área geográfica en la que ocurrió el ataque, la hora en la que ocurrió, si el ataque fue mortal o no, entre otros datos relevantes.\n",
    "\n",
    "## Requisitos previos\n",
    "\n",
    "Para ejecutar este proyecto se necesitan los siguientes paquetes de Python:\n",
    "- Pandas\n",
    "- Numpy\n",
    "\n",
    "## Estructura del proyecto\n",
    "\n",
    "- **data**: carpeta se encuentra el archivo CSV con los datos sucios del dataframe.\n",
    "- **output**: Aquí se guardará el dataframe limpio en formato CSV.\n",
    "- **read me**: explicacion sencilla del proyecto\n",
    "- **your-code**: con el Jupyter Notebook y el código utilizado\n",
    "- **img**: carpeta para incluir imágenes\n",
    "- **src**: carpeta con el código fuente \n",
    "\n",
    "## Cómo ejecutar el proyecto\n",
    "\n",
    "1. Clona este repositorio en tu ordenador.\n",
    "2. Instala los paquetes necesarios: Pandas y Numpy.\n",
    "3. El resultado se guardará en la carpeta output como un archivo CSV.\n",
    "\n",
    "## Detalles de la limpieza de datos\n",
    "\n",
    "Los datos del dataframe original venían muy desordenados y con valores faltantes. Para limpiarlos, se realizaron las siguientes operaciones:\n",
    "\n",
    "- Se eliminaron las filas que no contenían información relevante para el estudio.\n",
    "- Se reemplazaron los valores faltantes con información estimada a partir de otros datos del mismo registro.\n",
    "- Se eliminaron registros duplicados.\n",
    "- Se verificaron los tipos de datos de cada columna y se corrigieron aquellos que no correspondían.\n",
    "- Se eliminaron caracteres especiales y se normalizaron los valores de las columnas.\n",
    "- Se realizaron cambios de tipos de datos.\n",
    "- Se cambiaron los nombres de algunas columnas para facilitar su comprensión.\n",
    "- Se convirtieron algunas columnas irrelevantes o incompletas en 0.\n",
    "- Se sustituyeron ciertos valores nulos por elementos comunes según la probabilidad.\n",
    "\n",
    "## Resultados\n",
    "\n",
    "El dataframe limpio se encuentra en el archivo output/shark_attacks_clean.csv\n",
    "\n",
    "Con este nuevo dataframe limpio y ordenado, podremos realizar análisis y visualizaciones de datos más precisos y fiables sobre ataques de tiburones a personas."
   ]
  }
 ],
 "metadata": {
  "kernelspec": {
   "display_name": "Python 3 (ipykernel)",
   "language": "python",
   "name": "python3"
  },
  "language_info": {
   "codemirror_mode": {
    "name": "ipython",
    "version": 3
   },
   "file_extension": ".py",
   "mimetype": "text/x-python",
   "name": "python",
   "nbconvert_exporter": "python",
   "pygments_lexer": "ipython3",
   "version": "3.9.13"
  }
 },
 "nbformat": 4,
 "nbformat_minor": 5
}
